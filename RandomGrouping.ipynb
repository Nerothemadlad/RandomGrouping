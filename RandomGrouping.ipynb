{
  "nbformat": 4,
  "nbformat_minor": 0,
  "metadata": {
    "colab": {
      "name": "RandomGrouping.ipynb",
      "provenance": [],
      "collapsed_sections": [],
      "authorship_tag": "ABX9TyNascUY8FlnJw1brwjFuM/u",
      "include_colab_link": true
    },
    "kernelspec": {
      "name": "python3",
      "display_name": "Python 3"
    },
    "language_info": {
      "name": "python"
    }
  },
  "cells": [
    {
      "cell_type": "markdown",
      "metadata": {
        "id": "view-in-github",
        "colab_type": "text"
      },
      "source": [
        "<a href=\"https://colab.research.google.com/github/Nerothemadlad/RandomGrouping/blob/main/RandomGrouping.ipynb\" target=\"_parent\"><img src=\"https://colab.research.google.com/assets/colab-badge.svg\" alt=\"Open In Colab\"/></a>"
      ]
    },
    {
      "cell_type": "code",
      "execution_count": null,
      "metadata": {
        "colab": {
          "base_uri": "https://localhost:8080/"
        },
        "id": "pfu7MpuMSgLD",
        "outputId": "c286640d-752b-4bbc-e272-e8e786141a43"
      },
      "outputs": [
        {
          "output_type": "execute_result",
          "data": {
            "text/plain": [
              "{'group 1': ['Thúy', 'Huy'],\n",
              " 'group 2': ['Trân', 'Lộc'],\n",
              " 'group 3': ['Nam', 'Quỳnh Như'],\n",
              " 'group 4': ['Khôi', 'Thịnh'],\n",
              " 'group 5': ['Phúc', 'Kim Như'],\n",
              " 'group 6': ['Phi']}"
            ]
          },
          "metadata": {},
          "execution_count": 7
        }
      ],
      "source": [
        "import secrets\n",
        "\n",
        "K9 = [\n",
        "    \"Huy\",\n",
        "    \"Nam\",\n",
        "    \"Thúy\",\n",
        "    \"Phi\",\n",
        "    \"Lộc\",\n",
        "    \"Kim Như\",\n",
        "    \"Quỳnh Như\",\n",
        "    \"Trân\",\n",
        "    \"Khôi\",\n",
        "    \"Phúc\",\n",
        "    \"Thịnh\",\n",
        "]\n",
        "\n",
        "def grouping(groups_number: int, groups_members_number: int, all_members: list):\n",
        "    '''\n",
        "    Divide class members into pairs/groups\n",
        "    \n",
        "    Note that if the number of all members is not divisible by\n",
        "    the number of groups, there will be a group with fewer members\n",
        "    \n",
        "    groups_number: number of to be divided groups\n",
        "    groups_members_number: number of members in a standard group\n",
        "    all_members: a list containing all members of the class\n",
        "    '''\n",
        "    groups = dict()\n",
        "\n",
        "    for _ in range(groups_number):\n",
        "        group_name = \"group \" + str(_ + 1)\n",
        "        size = min(len(all_members), groups_members_number)\n",
        "        members = secrets.SystemRandom().sample(all_members, k=size)\n",
        "\n",
        "        groups[group_name] = members\n",
        "        for mem in members:\n",
        "            all_members.remove(mem)\n",
        "    \n",
        "    return groups\n",
        "\n",
        "grouping(6, 2, K9)"
      ]
    }
  ]
}